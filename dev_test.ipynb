{
 "cells": [
  {
   "cell_type": "code",
   "execution_count": 2,
   "metadata": {},
   "outputs": [],
   "source": [
    "import datasets\n",
    "from datasets import load_dataset\n",
    "from typing import Type\n",
    "import pandas as pd\n",
    "import os\n",
    "from tqdm import tqdm"
   ]
  },
  {
   "cell_type": "code",
   "execution_count": 3,
   "metadata": {},
   "outputs": [],
   "source": [
    "df1 = pd.read_csv('data/train/sts_train.csv')\n",
    "df2 = pd.read_csv('data/train/wiki_train.csv')"
   ]
  },
  {
   "cell_type": "code",
   "execution_count": 14,
   "metadata": {},
   "outputs": [
    {
     "data": {
      "text/html": [
       "<div>\n",
       "<style scoped>\n",
       "    .dataframe tbody tr th:only-of-type {\n",
       "        vertical-align: middle;\n",
       "    }\n",
       "\n",
       "    .dataframe tbody tr th {\n",
       "        vertical-align: top;\n",
       "    }\n",
       "\n",
       "    .dataframe thead th {\n",
       "        text-align: right;\n",
       "    }\n",
       "</style>\n",
       "<table border=\"1\" class=\"dataframe\">\n",
       "  <thead>\n",
       "    <tr style=\"text-align: right;\">\n",
       "      <th></th>\n",
       "      <th>sentence</th>\n",
       "    </tr>\n",
       "  </thead>\n",
       "  <tbody>\n",
       "    <tr>\n",
       "      <th>0</th>\n",
       "      <td>숙소 위치는 찾기 쉽고 일반적인 한국의 반지하 숙소입니다.</td>\n",
       "    </tr>\n",
       "    <tr>\n",
       "      <th>1</th>\n",
       "      <td>위반행위 조사 등을 거부·방해·기피한 자는 500만원 이하 과태료 부과 대상이다.</td>\n",
       "    </tr>\n",
       "    <tr>\n",
       "      <th>2</th>\n",
       "      <td>회사가 보낸 메일은 이 지메일이 아니라 다른 지메일 계정으로 전달해줘.</td>\n",
       "    </tr>\n",
       "    <tr>\n",
       "      <th>3</th>\n",
       "      <td>긴급 고용안정지원금은 지역고용대응 등 특별지원금, 지자체별 소상공인 지원사업, 취업...</td>\n",
       "    </tr>\n",
       "    <tr>\n",
       "      <th>4</th>\n",
       "      <td>호스트의 답장이 늦으나, 개선될 것으로 보입니다.</td>\n",
       "    </tr>\n",
       "    <tr>\n",
       "      <th>...</th>\n",
       "      <td>...</td>\n",
       "    </tr>\n",
       "    <tr>\n",
       "      <th>34723</th>\n",
       "      <td>메르켈은 나토와 라트비아의 연대를 약속한다.</td>\n",
       "    </tr>\n",
       "    <tr>\n",
       "      <th>34724</th>\n",
       "      <td>나일강에서 더 많은 시체가 발견되면서 이집트 보트 충돌 사고 사망자 수가 증가한다.</td>\n",
       "    </tr>\n",
       "    <tr>\n",
       "      <th>34725</th>\n",
       "      <td>시 주석 : 에볼라 퇴치를 계속 돕기 위한 중국</td>\n",
       "    </tr>\n",
       "    <tr>\n",
       "      <th>34726</th>\n",
       "      <td>중국은 불안한 주식 거래자들을 안심시키기 위해 뒤뚱거리고 있다.</td>\n",
       "    </tr>\n",
       "    <tr>\n",
       "      <th>34727</th>\n",
       "      <td>가장 최근의 심한 날씨 : 토네이도 후 텍사스에서 1명 사망</td>\n",
       "    </tr>\n",
       "  </tbody>\n",
       "</table>\n",
       "<p>34723 rows × 1 columns</p>\n",
       "</div>"
      ],
      "text/plain": [
       "                                                sentence\n",
       "0                       숙소 위치는 찾기 쉽고 일반적인 한국의 반지하 숙소입니다.\n",
       "1          위반행위 조사 등을 거부·방해·기피한 자는 500만원 이하 과태료 부과 대상이다.\n",
       "2                회사가 보낸 메일은 이 지메일이 아니라 다른 지메일 계정으로 전달해줘.\n",
       "3      긴급 고용안정지원금은 지역고용대응 등 특별지원금, 지자체별 소상공인 지원사업, 취업...\n",
       "4                            호스트의 답장이 늦으나, 개선될 것으로 보입니다.\n",
       "...                                                  ...\n",
       "34723                           메르켈은 나토와 라트비아의 연대를 약속한다.\n",
       "34724     나일강에서 더 많은 시체가 발견되면서 이집트 보트 충돌 사고 사망자 수가 증가한다.\n",
       "34725                         시 주석 : 에볼라 퇴치를 계속 돕기 위한 중국\n",
       "34726                중국은 불안한 주식 거래자들을 안심시키기 위해 뒤뚱거리고 있다.\n",
       "34727                  가장 최근의 심한 날씨 : 토네이도 후 텍사스에서 1명 사망\n",
       "\n",
       "[34723 rows x 1 columns]"
      ]
     },
     "execution_count": 14,
     "metadata": {},
     "output_type": "execute_result"
    }
   ],
   "source": [
    "df1.dropna(axis=0)"
   ]
  },
  {
   "cell_type": "code",
   "execution_count": null,
   "metadata": {},
   "outputs": [],
   "source": [
    "for i in df1['sentence'].to_list():\n",
    "    if isinstance(i,float):\n",
    "        print('d')"
   ]
  },
  {
   "cell_type": "code",
   "execution_count": 2,
   "metadata": {},
   "outputs": [
    {
     "name": "stderr",
     "output_type": "stream",
     "text": [
      "Reusing dataset korean_newspaper (/home/cleaning/.cache/huggingface/datasets/sh110495___korean_newspaper/Korean Wikipedia/1.0.0/ab3d0b7fa0e596e0705ce8161bea2e8edab1c4406a9581de94477747eee5463d)\n"
     ]
    },
    {
     "data": {
      "application/vnd.jupyter.widget-view+json": {
       "model_id": "62dfad0b43834e479c4dde084c105a5a",
       "version_major": 2,
       "version_minor": 0
      },
      "text/plain": [
       "  0%|          | 0/1 [00:00<?, ?it/s]"
      ]
     },
     "metadata": {},
     "output_type": "display_data"
    }
   ],
   "source": [
    "dataset = load_dataset(\"sh110495/kor-wikipedia\")"
   ]
  },
  {
   "cell_type": "code",
   "execution_count": 3,
   "metadata": {},
   "outputs": [
    {
     "data": {
      "text/plain": [
       "'석도(石島)는 충청남도 보령시 오천면에 있는 섬이다. 특정도서로 지정하여 관리되고 있다.\\n석도는 보전상태가 양호한 동백나무 군락이 분포하고 있으며, 희귀종인 갈조류 뜸부기가 서식하여 「독도 등 도서지역의 생태계보전에 관한 특별법」에 의거 특정도서로 지정되었다.\\n특정도서안에서는 「대한민국 독도 등 도서지역의 생태계보전에 관한 특별법」 제8조에 의거 누구든지 다음 각호의 1에 해당하는 행위를 하거나 허가를 하여서는 아니된다.'"
      ]
     },
     "execution_count": 3,
     "metadata": {},
     "output_type": "execute_result"
    }
   ],
   "source": [
    "dataset['train']['text'][0]"
   ]
  },
  {
   "cell_type": "code",
   "execution_count": 23,
   "metadata": {},
   "outputs": [
    {
     "name": "stderr",
     "output_type": "stream",
     "text": [
      "100%|██████████| 106860/106860 [00:02<00:00, 44253.62it/s]\n"
     ]
    }
   ],
   "source": [
    "data = []\n",
    "for wiki_text in tqdm(dataset['train']['text']):\n",
    "    wiki_text = wiki_text.replace('. ','.\\n')\n",
    "    wiki_text = wiki_text.replace(u'\\xa0', u' ')\n",
    "    wiki_sentences = wiki_text.split('\\n')\n",
    "    \n",
    "    for wiki_sentence in wiki_sentences:\n",
    "        if len(wiki_sentence) >= 10:\n",
    "            data.append(wiki_sentence)\n",
    "\n"
   ]
  },
  {
   "cell_type": "code",
   "execution_count": 127,
   "metadata": {},
   "outputs": [
    {
     "name": "stdout",
     "output_type": "stream",
     "text": [
      "['석도(石島)는 충청남도 보령시 오천면에 있는 섬이다.', '특정도서로 지정하여 관리되고 있다.', '석도는 보전상태가 양호한 동백나무 군락이 분포하고 있으며, 희귀종인 갈조류 뜸부기가 서식하여 「독도 등 도서지역의 생태계보전에 관한 특별법」에 의거 특정도서로 지정되었다.', '특정도서안에서는 「대한민국 독도 등 도서지역의 생태계보전에 관한 특별법」 제8조에 의거 누구든지 다음 각호의 1에 해당하는 행위를 하거나 허가를 하여서는 아니된다.', '중화인민공화국 중앙군사위원회(중국어 간체자: 中华人民共和国中央军事委员会, 정체자: 中華人民共和國中央軍事委員會, 병음: Zhōnghuá Rénmín Gònghéguó Zhōngyāng Jūnshì Wěiyuánhuì)는 중화인민공화국의 군사를 지도하는 국가 기관이다.', '중국공산당 중앙군사위원회의 구성원과 거의 같다.', '중앙군사위원회 주석, 부주석, 위원으로 구성되며 전국인민대표대회가 선출한다.', '전국인민대표회의와 전국인민대표대회 상무위원회에 대하여 책임을 진다.', '중국의 헌법에서는 국가 중앙군사위원회가 “전국의 무장력을 지도한다”라고 하고 있지만, 한편으로 중국 국방법에서는 “중국의 무장력은 중국 공산당의 영도를 받는”, “무장력 내의 공산당 조직은 공산당 규약에 의해 활동한다”라고 하고 있기 때문에 결국 중국 공산당이 군사를 지배한다고 볼 수 있다.', '특히, 당 중앙군사위원회의 구성원(공산당원)과 구성원이 동일하고, 하는 일을 근거로 할 때, “국가 중앙군사위원회는 당 중앙군사위원회에 복종하는”체제라고 볼 수 있다.']\n",
      "2861424\n"
     ]
    }
   ],
   "source": [
    "print(data[:10])\n",
    "print(len(data))\n"
   ]
  },
  {
   "cell_type": "code",
   "execution_count": 6,
   "metadata": {},
   "outputs": [],
   "source": [
    "import re"
   ]
  },
  {
   "cell_type": "code",
   "execution_count": 25,
   "metadata": {},
   "outputs": [],
   "source": [
    "data_df = pd.DataFrame(data = {'sentence' : data})"
   ]
  },
  {
   "cell_type": "code",
   "execution_count": 124,
   "metadata": {},
   "outputs": [],
   "source": [
    "def preprocess_string(string):\n",
    "    #print(string)\n",
    "    s = re.sub('[^0-9가-힣a-zA-Z一-龥.,)(\\\"\\'-·:}{》《~/%\\[\\]’‘“”=〉〈><_ ]','',string)\n",
    "    return s\n",
    "#.,)(\\\"\\'-·:}{》《~/%\\[\\]’‘“”=〉〈><_"
   ]
  },
  {
   "cell_type": "code",
   "execution_count": 125,
   "metadata": {},
   "outputs": [],
   "source": [
    "data_df['sen2'] = data_df['sentence'].apply(preprocess_string)"
   ]
  },
  {
   "cell_type": "code",
   "execution_count": 128,
   "metadata": {},
   "outputs": [
    {
     "data": {
      "text/html": [
       "<div>\n",
       "<style scoped>\n",
       "    .dataframe tbody tr th:only-of-type {\n",
       "        vertical-align: middle;\n",
       "    }\n",
       "\n",
       "    .dataframe tbody tr th {\n",
       "        vertical-align: top;\n",
       "    }\n",
       "\n",
       "    .dataframe thead th {\n",
       "        text-align: right;\n",
       "    }\n",
       "</style>\n",
       "<table border=\"1\" class=\"dataframe\">\n",
       "  <thead>\n",
       "    <tr style=\"text-align: right;\">\n",
       "      <th></th>\n",
       "      <th>sentence</th>\n",
       "      <th>sen2</th>\n",
       "    </tr>\n",
       "  </thead>\n",
       "  <tbody>\n",
       "    <tr>\n",
       "      <th>0</th>\n",
       "      <td>석도(石島)는 충청남도 보령시 오천면에 있는 섬이다.</td>\n",
       "      <td>석도(石島)는 충청남도 보령시 오천면에 있는 섬이다.</td>\n",
       "    </tr>\n",
       "    <tr>\n",
       "      <th>1</th>\n",
       "      <td>특정도서로 지정하여 관리되고 있다.</td>\n",
       "      <td>특정도서로 지정하여 관리되고 있다.</td>\n",
       "    </tr>\n",
       "    <tr>\n",
       "      <th>2</th>\n",
       "      <td>석도는 보전상태가 양호한 동백나무 군락이 분포하고 있으며, 희귀종인 갈조류 뜸부기가...</td>\n",
       "      <td>석도는 보전상태가 양호한 동백나무 군락이 분포하고 있으며, 희귀종인 갈조류 뜸부기가...</td>\n",
       "    </tr>\n",
       "    <tr>\n",
       "      <th>3</th>\n",
       "      <td>특정도서안에서는 「대한민국 독도 등 도서지역의 생태계보전에 관한 특별법」 제8조에 ...</td>\n",
       "      <td>특정도서안에서는 대한민국 독도 등 도서지역의 생태계보전에 관한 특별법 제8조에 의거...</td>\n",
       "    </tr>\n",
       "    <tr>\n",
       "      <th>4</th>\n",
       "      <td>중화인민공화국 중앙군사위원회(중국어 간체자: 中华人民共和国中央军事委员会, 정체자: ...</td>\n",
       "      <td>중화인민공화국 중앙군사위원회(중국어 간체자: 中华人民共和国中央军事委员会, 정체자: ...</td>\n",
       "    </tr>\n",
       "    <tr>\n",
       "      <th>...</th>\n",
       "      <td>...</td>\n",
       "      <td>...</td>\n",
       "    </tr>\n",
       "    <tr>\n",
       "      <th>2861419</th>\n",
       "      <td>조색(趙穡) 조석연(趙錫演) 조언우(趙彦瑀) 조욱(趙稶) 조진(趙進)</td>\n",
       "      <td>조색(趙穡) 조석연(趙錫演) 조언우(趙彦瑀) 조욱(趙稶) 조진(趙進)</td>\n",
       "    </tr>\n",
       "    <tr>\n",
       "      <th>2861420</th>\n",
       "      <td>백제 십제공신(十濟功臣) 마려(馬黎), 오간(烏干), 전섭(全聶), 조성(趙成), ...</td>\n",
       "      <td>백제 십제공신(十濟功臣) 마려(馬黎), 오간(烏干), 전섭(全聶), 조성(趙成), ...</td>\n",
       "    </tr>\n",
       "    <tr>\n",
       "      <th>2861421</th>\n",
       "      <td>이탈디자인 제로우노(이탈리아어: Italdesign Zerouno)는 이탈디자인 주...</td>\n",
       "      <td>이탈디자인 제로우노(이탈리아어: Italdesign Zerouno)는 이탈디자인 주...</td>\n",
       "    </tr>\n",
       "    <tr>\n",
       "      <th>2861422</th>\n",
       "      <td>제로우노는 중간 장착형 5.2리터 자연 흡기 V10 엔진 (아우디 R8 및 람보르기...</td>\n",
       "      <td>제로우노는 중간 장착형 5.2리터 자연 흡기 V10 엔진 (아우디 R8 및 람보르기...</td>\n",
       "    </tr>\n",
       "    <tr>\n",
       "      <th>2861423</th>\n",
       "      <td>차체는 모듈식 탄소 섬유와 알루미늄 섀시를 사용하며 탄소 섬유로 만들어졌다.</td>\n",
       "      <td>차체는 모듈식 탄소 섬유와 알루미늄 섀시를 사용하며 탄소 섬유로 만들어졌다.</td>\n",
       "    </tr>\n",
       "  </tbody>\n",
       "</table>\n",
       "<p>2861424 rows × 2 columns</p>\n",
       "</div>"
      ],
      "text/plain": [
       "                                                  sentence  \\\n",
       "0                            석도(石島)는 충청남도 보령시 오천면에 있는 섬이다.   \n",
       "1                                      특정도서로 지정하여 관리되고 있다.   \n",
       "2        석도는 보전상태가 양호한 동백나무 군락이 분포하고 있으며, 희귀종인 갈조류 뜸부기가...   \n",
       "3        특정도서안에서는 「대한민국 독도 등 도서지역의 생태계보전에 관한 특별법」 제8조에 ...   \n",
       "4        중화인민공화국 중앙군사위원회(중국어 간체자: 中华人民共和国中央军事委员会, 정체자: ...   \n",
       "...                                                    ...   \n",
       "2861419             조색(趙穡) 조석연(趙錫演) 조언우(趙彦瑀) 조욱(趙稶) 조진(趙進)   \n",
       "2861420  백제 십제공신(十濟功臣) 마려(馬黎), 오간(烏干), 전섭(全聶), 조성(趙成), ...   \n",
       "2861421  이탈디자인 제로우노(이탈리아어: Italdesign Zerouno)는 이탈디자인 주...   \n",
       "2861422  제로우노는 중간 장착형 5.2리터 자연 흡기 V10 엔진 (아우디 R8 및 람보르기...   \n",
       "2861423         차체는 모듈식 탄소 섬유와 알루미늄 섀시를 사용하며 탄소 섬유로 만들어졌다.   \n",
       "\n",
       "                                                      sen2  \n",
       "0                            석도(石島)는 충청남도 보령시 오천면에 있는 섬이다.  \n",
       "1                                      특정도서로 지정하여 관리되고 있다.  \n",
       "2        석도는 보전상태가 양호한 동백나무 군락이 분포하고 있으며, 희귀종인 갈조류 뜸부기가...  \n",
       "3        특정도서안에서는 대한민국 독도 등 도서지역의 생태계보전에 관한 특별법 제8조에 의거...  \n",
       "4        중화인민공화국 중앙군사위원회(중국어 간체자: 中华人民共和国中央军事委员会, 정체자: ...  \n",
       "...                                                    ...  \n",
       "2861419             조색(趙穡) 조석연(趙錫演) 조언우(趙彦瑀) 조욱(趙稶) 조진(趙進)  \n",
       "2861420  백제 십제공신(十濟功臣) 마려(馬黎), 오간(烏干), 전섭(全聶), 조성(趙成), ...  \n",
       "2861421  이탈디자인 제로우노(이탈리아어: Italdesign Zerouno)는 이탈디자인 주...  \n",
       "2861422  제로우노는 중간 장착형 5.2리터 자연 흡기 V10 엔진 (아우디 R8 및 람보르기...  \n",
       "2861423         차체는 모듈식 탄소 섬유와 알루미늄 섀시를 사용하며 탄소 섬유로 만들어졌다.  \n",
       "\n",
       "[2861424 rows x 2 columns]"
      ]
     },
     "execution_count": 128,
     "metadata": {},
     "output_type": "execute_result"
    }
   ],
   "source": [
    "data_df"
   ]
  },
  {
   "cell_type": "code",
   "execution_count": 123,
   "metadata": {},
   "outputs": [
    {
     "name": "stdout",
     "output_type": "stream",
     "text": [
      "석도(石島)는 충청남도 보령시 오천면에 있는 섬이다.\n"
     ]
    },
    {
     "data": {
      "text/plain": [
       "'석도(石島)는 충청남도 보령시 오천면에 있는 섬이다.'"
      ]
     },
     "execution_count": 123,
     "metadata": {},
     "output_type": "execute_result"
    }
   ],
   "source": [
    "preprocess_string('석도(石島)는 충청남도 보령시 오천면에 있는 섬이다.')"
   ]
  },
  {
   "cell_type": "code",
   "execution_count": 66,
   "metadata": {},
   "outputs": [
    {
     "name": "stderr",
     "output_type": "stream",
     "text": [
      "100%|██████████| 2861424/2861424 [00:39<00:00, 72627.12it/s]\n"
     ]
    }
   ],
   "source": [
    "not_korean_chars = []\n",
    "for s in tqdm(data_df['sentence'].to_list()):\n",
    "    sp = re.sub(r'[0-9a-zA-Z가-힣一-龥.,)(\\\"\\'-·:}{》《~/%\\[\\]\\&’‘“”=〉〈><_ ]','',s)\n",
    "    not_korean_chars.extend(list(sp))\n",
    "    "
   ]
  }
 ],
 "metadata": {
  "interpreter": {
   "hash": "81032ca24206c3b5ec8daf7f1877a1f9a3df4bda8ff335de3fc33f9a4523828c"
  },
  "kernelspec": {
   "display_name": "Python 3.7.13 ('.venv': venv)",
   "language": "python",
   "name": "python3"
  },
  "language_info": {
   "codemirror_mode": {
    "name": "ipython",
    "version": 3
   },
   "file_extension": ".py",
   "mimetype": "text/x-python",
   "name": "python",
   "nbconvert_exporter": "python",
   "pygments_lexer": "ipython3",
   "version": "3.7.13"
  },
  "orig_nbformat": 4
 },
 "nbformat": 4,
 "nbformat_minor": 2
}
