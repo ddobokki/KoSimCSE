{
 "cells": [
  {
   "cell_type": "code",
   "execution_count": 1,
   "metadata": {},
   "outputs": [],
   "source": [
    "from sentence_transformers import SentenceTransformer"
   ]
  },
  {
   "cell_type": "code",
   "execution_count": 2,
   "metadata": {},
   "outputs": [],
   "source": [
    "model_name = 'output/unspervised-klue/roberta-small-256-2022-04-15_10-55-28'\n",
    "model = SentenceTransformer(model_name)"
   ]
  },
  {
   "cell_type": "code",
   "execution_count": 3,
   "metadata": {},
   "outputs": [
    {
     "name": "stderr",
     "output_type": "stream",
     "text": [
      "/home/cleaning/workspace/KoSimCSE/.venv/lib/python3.7/site-packages/huggingface_hub/utils/_deprecation.py:43: FutureWarning: Pass token='unsup-simcse-klue-roberta-small' as keyword args. From version 0.7 passing these as positional arguments will result in an error\n",
      "  FutureWarning,\n",
      "/home/cleaning/workspace/KoSimCSE/.venv/lib/python3.7/site-packages/huggingface_hub/hf_api.py:599: FutureWarning: `create_repo` now takes `token` as an optional positional argument. Be sure to adapt your code!\n",
      "  FutureWarning,\n",
      "Cloning https://huggingface.co/ddobokki/unsup-simcse-klue-roberta-small into local empty directory.\n",
      "WARNING:huggingface_hub.repository:Cloning https://huggingface.co/ddobokki/unsup-simcse-klue-roberta-small into local empty directory.\n"
     ]
    },
    {
     "data": {
      "application/vnd.jupyter.widget-view+json": {
       "model_id": "eaf499d442864c3db515fcf2ece9e1a9",
       "version_major": 2,
       "version_minor": 0
      },
      "text/plain": [
       "Download file pytorch_model.bin:   0%|          | 3.47k/260M [00:00<?, ?B/s]"
      ]
     },
     "metadata": {},
     "output_type": "display_data"
    },
    {
     "data": {
      "application/vnd.jupyter.widget-view+json": {
       "model_id": "4ed07610f51f4bf98ab53625b0816a54",
       "version_major": 2,
       "version_minor": 0
      },
      "text/plain": [
       "Clean file pytorch_model.bin:   0%|          | 1.00k/260M [00:00<?, ?B/s]"
      ]
     },
     "metadata": {},
     "output_type": "display_data"
    },
    {
     "data": {
      "application/vnd.jupyter.widget-view+json": {
       "model_id": "f5a4c363a863453db5def686103b987a",
       "version_major": 2,
       "version_minor": 0
      },
      "text/plain": [
       "Upload file pytorch_model.bin:   0%|          | 3.34k/260M [00:00<?, ?B/s]"
      ]
     },
     "metadata": {},
     "output_type": "display_data"
    },
    {
     "name": "stderr",
     "output_type": "stream",
     "text": [
      "To https://huggingface.co/ddobokki/unsup-simcse-klue-roberta-small\n",
      "   14f5a89..26f03fa  main -> main\n",
      "\n",
      "WARNING:huggingface_hub.repository:To https://huggingface.co/ddobokki/unsup-simcse-klue-roberta-small\n",
      "   14f5a89..26f03fa  main -> main\n",
      "\n"
     ]
    },
    {
     "data": {
      "text/plain": [
       "'https://huggingface.co/ddobokki/unsup-simcse-klue-roberta-small/commit/26f03fa19cb1166e0df7f01384fb872fa02b2e22'"
      ]
     },
     "execution_count": 3,
     "metadata": {},
     "output_type": "execute_result"
    }
   ],
   "source": [
    "model.save_to_hub('unsup-simcse-klue-roberta-small',commit_message = 'model_update',exist_ok=True)"
   ]
  }
 ],
 "metadata": {
  "interpreter": {
   "hash": "81032ca24206c3b5ec8daf7f1877a1f9a3df4bda8ff335de3fc33f9a4523828c"
  },
  "kernelspec": {
   "display_name": "Python 3.7.13 ('.venv': venv)",
   "language": "python",
   "name": "python3"
  },
  "language_info": {
   "codemirror_mode": {
    "name": "ipython",
    "version": 3
   },
   "file_extension": ".py",
   "mimetype": "text/x-python",
   "name": "python",
   "nbconvert_exporter": "python",
   "pygments_lexer": "ipython3",
   "version": "3.7.13"
  },
  "orig_nbformat": 4
 },
 "nbformat": 4,
 "nbformat_minor": 2
}
